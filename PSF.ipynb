{
 "cells": [
  {
   "cell_type": "code",
   "execution_count": 1,
   "metadata": {
    "collapsed": true
   },
   "outputs": [],
   "source": [
    "%matplotlib inline"
   ]
  },
  {
   "cell_type": "code",
   "execution_count": 2,
   "metadata": {},
   "outputs": [],
   "source": [
    "import signal_to_noise as snr\n",
    "\n",
    "import numpy as np\n",
    "\n",
    "import astropy.units as u\n",
    "from astropy.convolution import discretize_model\n",
    "from astropy.modeling.functional_models import Moffat2D\n",
    "\n",
    "from matplotlib import pyplot as plt\n",
    "from matplotlib import rcParams\n",
    "from matplotlib import colors"
   ]
  },
  {
   "cell_type": "code",
   "execution_count": 3,
   "metadata": {},
   "outputs": [],
   "source": [
    "rcParams['text.usetex'] = True"
   ]
  },
  {
   "cell_type": "markdown",
   "metadata": {},
   "source": [
    "# Moffat function PSF\n",
    "\n",
    "## Conversion between FWHM and Moffat function width parameter"
   ]
  },
  {
   "cell_type": "code",
   "execution_count": 4,
   "metadata": {
    "collapsed": true
   },
   "outputs": [],
   "source": [
    "def gamma_to_FWHM(gamma, alpha):\n",
    "    return 2 * gamma * np.sqrt(2**(1 / alpha) - 1)"
   ]
  },
  {
   "cell_type": "code",
   "execution_count": 5,
   "metadata": {
    "collapsed": true
   },
   "outputs": [],
   "source": [
    "def FWHM_to_gamma(FWHM, alpha):\n",
    "    return FWHM / (2 * np.sqrt(2**(1 / alpha) - 1))"
   ]
  },
  {
   "cell_type": "markdown",
   "metadata": {},
   "source": [
    "## Amplitude required for a normalised Moffat PSF"
   ]
  },
  {
   "cell_type": "code",
   "execution_count": 6,
   "metadata": {},
   "outputs": [],
   "source": [
    "def amplitude(gamma, alpha, normalisation=1.0):\n",
    "    return (alpha - 1) / (np.pi * gamma**2)"
   ]
  },
  {
   "cell_type": "markdown",
   "metadata": {},
   "source": [
    "## Representative examples\n",
    "\n",
    "Create Moffat functions with three values of the shape parameter:\n",
    "\n",
    "* 4.765 - best fit for pure Kolmogorov atmospheric turbulence\n",
    "* 2.5 - default in IRAF, considered typical for astronomical instruments\n",
    "* 1.5 - extra scattering"
   ]
  },
  {
   "cell_type": "code",
   "execution_count": 7,
   "metadata": {},
   "outputs": [],
   "source": [
    "g_15 = FWHM_to_gamma(1, 1.5)\n",
    "m_15 = Moffat2D(amplitude=amplitude(g_15, 1.5), gamma=g_15, alpha=1.5)\n",
    "\n",
    "g_25 = FWHM_to_gamma(1, 2.5)\n",
    "m_25 = Moffat2D(amplitude=amplitude(g_25, 2.5), gamma=g_25, alpha=2.5)\n",
    "\n",
    "g_48 = FWHM_to_gamma(1, 4.765)\n",
    "m_48 = Moffat2D(amplitude=amplitude(g_48, 4.765), gamma=g_48, alpha=4.765)"
   ]
  },
  {
   "cell_type": "code",
   "execution_count": 8,
   "metadata": {},
   "outputs": [
    {
     "data": {
      "text/plain": [
       "<matplotlib.legend.Legend at 0x116db4d30>"
      ]
     },
     "execution_count": 8,
     "metadata": {},
     "output_type": "execute_result"
    },
    {
     "data": {
      "image/png": "[encoded data removed]",
      "text/plain": [
       "<matplotlib.figure.Figure at 0x116cfd2e8>"
      ]
     },
     "metadata": {},
     "output_type": "display_data"
    }
   ],
   "source": [
    "xs = np.arange(-3, 3, 0.05)\n",
    "\n",
    "plt.plot(xs, m_15(xs, 0), label=r'$\\alpha = 1.5$')\n",
    "plt.plot(xs, m_25(xs, 0), label=r'$\\alpha = 2.5$')\n",
    "plt.plot(xs, m_48(xs, 0), label=r'$\\alpha = 4.765$')\n",
    "\n",
    "plt.title('Normalised Moffat profiles')\n",
    "plt.xlabel('Radius / FWHM')\n",
    "plt.ylabel('Intensity')\n",
    "plt.legend(loc='best')"
   ]
  },
  {
   "cell_type": "markdown",
   "metadata": {},
   "source": [
    "## Compare discretisation methods\n",
    "\n",
    "The `astropy.convolution.discretize_model()` function provides four 'modes' for calculating pixellated versions of an `astropy.modelling.FittableModel`:\n",
    "\n",
    "* center: evaluate the model at the center of each pixel\n",
    "* linear_interp: evaluate the model at the four corners of each pixel and perform linear interpolation\n",
    "* oversample: evaluate the model on a sub-pixel grid and sum the results\n",
    "* integrate: numerically intergrate the model within each pixel\n",
    "\n",
    "When the core of the PSF spans no more than a few pixels only the latter two are likely to give reasonable results.\n",
    "\n",
    "### Moffat PSFs with 1 pixel FWHM and shape parameter 2.5"
   ]
  },
  {
   "cell_type": "code",
   "execution_count": 9,
   "metadata": {},
   "outputs": [
    {
     "data": {
      "image/png": "[encoded data removed]",
      "text/plain": [
       "<matplotlib.figure.Figure at 0x116df5b70>"
      ]
     },
     "metadata": {},
     "output_type": "display_data"
    }
   ],
   "source": [
    "xrange = (-3, 4)\n",
    "yrange = (-3, 4)\n",
    "\n",
    "plt.subplot(2,2,1)\n",
    "plt.imshow(discretize_model(m_25, xrange, yrange, mode='center'), \n",
    "           interpolation='none', cmap='cubehelix', vmax=0.6)\n",
    "plt.title('center')\n",
    "\n",
    "plt.subplot(2,2,2)\n",
    "plt.imshow(discretize_model(m_25, xrange, yrange, mode='linear_interp'), \n",
    "           interpolation='none', cmap='cubehelix', vmax=0.6)\n",
    "plt.title('linear interp')\n",
    "\n",
    "plt.subplot(2,2,3)\n",
    "plt.imshow(discretize_model(m_25, xrange, yrange, mode='oversample', factor=10), \n",
    "           interpolation='none', cmap='cubehelix', vmax=0.6)\n",
    "plt.title('oversample')\n",
    "\n",
    "plt.subplot(2,2,4)\n",
    "plt.imshow(discretize_model(m_25, xrange, yrange, mode='integrate'), \n",
    "           interpolation='none', cmap='cubehelix', vmax=0.6)\n",
    "plt.title('integrate')\n",
    "\n",
    "plt.gcf().set_size_inches(6,6.5)"
   ]
  },
  {
   "cell_type": "markdown",
   "metadata": {},
   "source": [
    "### Cross sections through Moffat PSFs"
   ]
  },
  {
   "cell_type": "code",
   "execution_count": 27,
   "metadata": {},
   "outputs": [
    {
     "data": {
      "image/png": "[encoded data removed]",
      "text/plain": [
       "<matplotlib.figure.Figure at 0x11a431f60>"
      ]
     },
     "metadata": {},
     "output_type": "display_data"
    }
   ],
   "source": [
    "lefts = np.arange(-3, 3.01)\n",
    "\n",
    "plt.subplot(2,2,1)\n",
    "plt.bar(lefts, discretize_model(m_25, xrange, yrange, mode='center')[3], width=1.0)\n",
    "plt.plot(xs, m_25(xs, 0), 'r-')\n",
    "plt.xlim(-2.5, 2.5)\n",
    "plt.ylim(0, 0.65)\n",
    "plt.title('center')\n",
    "\n",
    "plt.subplot(2,2,2)\n",
    "plt.bar(lefts, discretize_model(m_25, xrange, yrange, mode='linear_interp')[3], width=1.0)\n",
    "plt.plot(xs, m_25(xs, 0), 'r-')\n",
    "plt.xlim(-3.5, 3.5)\n",
    "plt.ylim(0, 0.65)\n",
    "plt.title('linear interp')\n",
    "\n",
    "plt.subplot(2,2,3)\n",
    "plt.bar(lefts, discretize_model(m_25, xrange, yrange, mode='oversample', factor=10)[3], width=1.0)\n",
    "plt.plot(xs, m_25(xs, 0), 'r-')\n",
    "plt.xlim(-3.5, 3.5)\n",
    "plt.ylim(0, 0.65)\n",
    "plt.title('oversample')\n",
    "\n",
    "plt.subplot(2,2,4)\n",
    "plt.bar(lefts, discretize_model(m_25, xrange, yrange, mode='integrate')[3], width=1.0)\n",
    "plt.plot(xs, m_25(xs, 0), 'r-')\n",
    "plt.xlim(-3.5, 3.5)\n",
    "plt.ylim(0, 0.65)\n",
    "plt.title('integrate')\n",
    "\n",
    "plt.gcf().set_size_inches(6,6.5)"
   ]
  },
  {
   "cell_type": "markdown",
   "metadata": {},
   "source": [
    "### Check normalisation\n",
    "\n",
    "Sum of pixel values should be just less than 1 (due to truncation by 7 x 7 pixel box)."
   ]
  },
  {
   "cell_type": "code",
   "execution_count": 11,
   "metadata": {},
   "outputs": [
    {
     "data": {
      "text/plain": [
       "1.1052519901773865"
      ]
     },
     "execution_count": 11,
     "metadata": {},
     "output_type": "execute_result"
    }
   ],
   "source": [
    "discretize_model(m_25, xrange, yrange, mode='center').sum()"
   ]
  },
  {
   "cell_type": "code",
   "execution_count": 12,
   "metadata": {},
   "outputs": [
    {
     "data": {
      "text/plain": [
       "0.90077546473985126"
      ]
     },
     "execution_count": 12,
     "metadata": {},
     "output_type": "execute_result"
    }
   ],
   "source": [
    "discretize_model(m_25, xrange, yrange, mode='linear_interp').sum()"
   ]
  },
  {
   "cell_type": "code",
   "execution_count": 13,
   "metadata": {},
   "outputs": [
    {
     "data": {
      "text/plain": [
       "0.98882499490218012"
      ]
     },
     "execution_count": 13,
     "metadata": {},
     "output_type": "execute_result"
    }
   ],
   "source": [
    "discretize_model(m_25, xrange, yrange, mode='oversample', factor=10).sum()"
   ]
  },
  {
   "cell_type": "code",
   "execution_count": 14,
   "metadata": {},
   "outputs": [
    {
     "data": {
      "text/plain": [
       "0.98882060906430647"
      ]
     },
     "execution_count": 14,
     "metadata": {},
     "output_type": "execute_result"
    }
   ],
   "source": [
    "discretize_model(m_25, xrange, yrange, mode='integrate').sum()"
   ]
  },
  {
   "cell_type": "markdown",
   "metadata": {},
   "source": [
    "### Compare evaluation time\n",
    "\n",
    "`center` and `linear_interp` fast, `integrate` horribly slow. `oversample` results close to `integrate` but only a factor of a few slower than `center`."
   ]
  },
  {
   "cell_type": "code",
   "execution_count": 15,
   "metadata": {},
   "outputs": [
    {
     "name": "stdout",
     "output_type": "stream",
     "text": [
      "290 µs ± 9.7 µs per loop (mean ± std. dev. of 7 runs, 1000 loops each)\n"
     ]
    }
   ],
   "source": [
    "%timeit discretize_model(m_25, xrange, yrange, mode='center')"
   ]
  },
  {
   "cell_type": "code",
   "execution_count": 16,
   "metadata": {},
   "outputs": [
    {
     "name": "stdout",
     "output_type": "stream",
     "text": [
      "304 µs ± 10.8 µs per loop (mean ± std. dev. of 7 runs, 1000 loops each)\n"
     ]
    }
   ],
   "source": [
    "%timeit discretize_model(m_25, xrange, yrange, mode='linear_interp')"
   ]
  },
  {
   "cell_type": "code",
   "execution_count": 17,
   "metadata": {},
   "outputs": [
    {
     "name": "stdout",
     "output_type": "stream",
     "text": [
      "594 µs ± 3.86 µs per loop (mean ± std. dev. of 7 runs, 1000 loops each)\n"
     ]
    }
   ],
   "source": [
    "%timeit discretize_model(m_25, xrange, yrange, mode='oversample', factor=10)"
   ]
  },
  {
   "cell_type": "code",
   "execution_count": 18,
   "metadata": {},
   "outputs": [
    {
     "name": "stdout",
     "output_type": "stream",
     "text": [
      "3.78 s ± 35.6 ms per loop (mean ± std. dev. of 7 runs, 1 loop each)\n"
     ]
    }
   ],
   "source": [
    "%timeit discretize_model(m_25, xrange, yrange, mode='integrate')"
   ]
  },
  {
   "cell_type": "markdown",
   "metadata": {},
   "source": [
    "# Signal to noise ratio for PSF fitting photometry\n",
    "\n",
    "For PSF fitting photometry the measured quantity is the weighted mean of the signals in each pixel ($s_{ij} = S.t_\\textrm{exp}.{PSF}_{ij}$), where the optimal weights for each pixel are simply the PSF values for that pixel, ${PSF}_{ij}$, i.e.\n",
    "\n",
    "$M = \\frac{S.t_\\textrm{exp}\\sum{{PSF}_{ij}^2}}{\\sum{{PSF}_{ij}}} = S.t_\\textrm{exp}\\sum{{PSF}_{ij}^2}$.\n",
    "\n",
    "The noise in each pixel is given by\n",
    "\n",
    "$n_{ij} = \\sqrt{S.t_\\textrm{exp}.{PSF}_{ij} + B.t_\\textrm{exp} + D.t_\\textrm{exp} + R^2.N_\\textrm{sub}} = \\sqrt{t_\\textrm{exp}}.\\sqrt{S.{PSF}_{ij} + B + D + R^2/t_\\textrm{sub}} = \\sqrt{t_\\textrm{exp}}.N_{ij}$,\n",
    "\n",
    "so the total noise is the weighted mean is given by\n",
    "\n",
    "$n_\\textrm{M} = \\sqrt{\\sum{{PSF}_{ij}^2.n_{ij}^2}} = \\sqrt{t_\\textrm{exp}}.\\sqrt{\\sum{{PSF}_{ij}^2.N_{ij}^2}}$,\n",
    "\n",
    "so that the effective signal to noise ratio is \n",
    "\n",
    "$\\frac{M}{n_\\textrm{M}} = \\frac{S.\\sqrt{t_\\textrm{exp}}\\sum{{PSF}_{ij}^2}}{\\sqrt{\\sum{{PSF}_{ij}^2.N_{ij}^2}}}$.\n",
    "\n",
    "In the case where the noise is dominated by sky background and/or instrumental noise (almost always the case when considering the low signal to noise sensitivity limits of astronomical instruments) we can simplify this further. If the $S.{PSF}_{ij}$ term of $N_{ij}$ can be neglected $N_{ij}$ becomes the constant $N = \\sqrt{B + D + R^2/t_\\textrm{sub}}$, and the effective signal to noise ratio becomes\n",
    "\n",
    "$\\frac{M}{n_\\textrm{M}} = \\frac{S.\\sqrt{t_\\textrm{exp}}\\sum{{PSF}_{ij}^2}}{N.\\sqrt{\\sum{{PSF}_{ij}^2.}}} = \\frac{S}{N}.\\sqrt{t_\\textrm{exp}.\\sum{{PSF}_{ij}^2}}$.\n",
    "\n",
    "This is the same signal to noise as would be obtained with a signal evenly spread over $n_\\textrm{pix}$ pixels where $n_\\textrm{pix} = 1 / \\sum{{PSF}_{ij}^2}$.\n",
    "\n",
    "## Example calculation"
   ]
  },
  {
   "cell_type": "code",
   "execution_count": 19,
   "metadata": {
    "collapsed": true
   },
   "outputs": [],
   "source": [
    "# Pixel scale from Canon 2.8/400 + STF-8300M\n",
    "pix_scale = 2.84867* u.arcsecond / u.pixel"
   ]
  },
  {
   "cell_type": "code",
   "execution_count": 20,
   "metadata": {
    "scrolled": true
   },
   "outputs": [],
   "source": [
    "# 1 pixel FWHM, IRAF default 'winginess'\n",
    "psf = snr.Moffat_PSF(FWHM=2 * u.arcsecond, alpha=2.5)"
   ]
  },
  {
   "cell_type": "code",
   "execution_count": 21,
   "metadata": {},
   "outputs": [],
   "source": [
    "# 4 pixellated versions, centred on centre, side, top and corner of pixel\n",
    "n_pix = 21\n",
    "psf_pix_centre = psf.pixellated(pix_scale, n_pix, offsets=(0, 0))\n",
    "psf_pix_side = psf.pixellated(pix_scale, n_pix, offsets=(0.5, 0))\n",
    "psf_pix_top = psf.pixellated(pix_scale, n_pix, offsets=(0, 0.5))\n",
    "psf_pix_corner = psf.pixellated(pix_scale, n_pix, offsets=(0.5, 0.5))"
   ]
  },
  {
   "cell_type": "code",
   "execution_count": 22,
   "metadata": {
    "scrolled": false
   },
   "outputs": [
    {
     "data": {
      "image/png": "[encoded data removed]",
      "text/plain": [
       "<matplotlib.figure.Figure at 0x117a087b8>"
      ]
     },
     "metadata": {},
     "output_type": "display_data"
    }
   ],
   "source": [
    "plt.subplot(2,2,1)\n",
    "plt.imshow(psf_pix_centre, interpolation='none', cmap='cubehelix', vmax=0.6)\n",
    "plt.title('centre')\n",
    "\n",
    "plt.subplot(2,2,2)\n",
    "plt.imshow(psf_pix_side, interpolation='none', cmap='cubehelix', vmax=0.6)\n",
    "plt.title('side')\n",
    "\n",
    "plt.subplot(2,2,3)\n",
    "plt.imshow(psf_pix_top, interpolation='none', cmap='cubehelix', vmax=0.6)\n",
    "plt.title('top')\n",
    "\n",
    "plt.subplot(2,2,4)\n",
    "plt.imshow(psf_pix_corner, interpolation='none', cmap='cubehelix', vmax=0.6)\n",
    "plt.title('corner')\n",
    "\n",
    "plt.gcf().set_size_inches(6, 6.5)"
   ]
  },
  {
   "cell_type": "code",
   "execution_count": 23,
   "metadata": {},
   "outputs": [
    {
     "data": {
      "text/plain": [
       "0.58963661234841813"
      ]
     },
     "execution_count": 23,
     "metadata": {},
     "output_type": "execute_result"
    }
   ],
   "source": [
    "# Peak pixel value for a pixel centred PSF, useful for saturation limit calculations\n",
    "psf.peak(2.85 * u.arcsecond / u.pixel)"
   ]
  },
  {
   "cell_type": "code",
   "execution_count": 24,
   "metadata": {},
   "outputs": [
    {
     "data": {
      "text/plain": [
       "5.1042415945087409"
      ]
     },
     "execution_count": 24,
     "metadata": {},
     "output_type": "execute_result"
    }
   ],
   "source": [
    "# n_pix value as defined above, useful for point source sensitivity limit calculations\n",
    "psf.n_pix(pix_scale)"
   ]
  },
  {
   "cell_type": "code",
   "execution_count": null,
   "metadata": {
    "collapsed": true
   },
   "outputs": [],
   "source": []
  },
  {
   "cell_type": "code",
   "execution_count": null,
   "metadata": {
    "collapsed": true
   },
   "outputs": [],
   "source": []
  },
  {
   "cell_type": "code",
   "execution_count": null,
   "metadata": {
    "collapsed": true
   },
   "outputs": [],
   "source": []
  }
 ],
 "metadata": {
  "anaconda-cloud": {},
  "kernelspec": {
   "display_name": "Python [default]",
   "language": "python",
   "name": "python3"
  },
  "language_info": {
   "codemirror_mode": {
    "name": "ipython",
    "version": 3
   },
   "file_extension": ".py",
   "mimetype": "text/x-python",
   "name": "python",
   "nbconvert_exporter": "python",
   "pygments_lexer": "ipython3",
   "version": "3.5.3"
  }
 },
 "nbformat": 4,
 "nbformat_minor": 2
}
